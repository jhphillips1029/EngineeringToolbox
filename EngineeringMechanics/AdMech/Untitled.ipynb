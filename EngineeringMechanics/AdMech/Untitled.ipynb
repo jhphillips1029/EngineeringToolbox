{
 "cells": [
  {
   "cell_type": "code",
   "execution_count": 1,
   "metadata": {},
   "outputs": [],
   "source": [
    "from StaticsSolverV3 import *\n",
    "import inspect"
   ]
  },
  {
   "cell_type": "code",
   "execution_count": 6,
   "metadata": {},
   "outputs": [
    {
     "name": "stdout",
     "output_type": "stream",
     "text": [
      "<0,25.0,25.0> @ (2.5,0,0)\n",
      "A\n",
      " [[ 1.  0.  0.]\n",
      " [ 0.  1.  1.]\n",
      " [ 0.  0. 14.]]\n",
      "\n",
      "B\n",
      " [[  0. ]\n",
      " [-15. ]\n",
      " [ 57.5]] \n",
      "\n",
      "[ 1.0    0.0    0.0]     [A_x]     [  0.0]\n",
      "[ 0.0    1.0    1.0]  *  [A_y]  =  [-15.0]\n",
      "[ 0.0    0.0   14.0]     [C_y]     [ 57.5]\n",
      "\n",
      "\n",
      "[A_x]     [   0.0]\n",
      "[A_y]  =  [-19.1071]\n",
      "[C_y]     [4.1071]\n"
     ]
    }
   ],
   "source": [
    "'''\n",
    "              P\n",
    "             \\|/\n",
    "A_________________C\n",
    "^             B   ^\n",
    "\\\\                O\n",
    " |------------|---|\n",
    "       L1       L2\n",
    "'''\n",
    "\n",
    "'''\n",
    " y\n",
    " |__x\n",
    " /\n",
    "z\n",
    "'''\n",
    "\n",
    "# Given\n",
    "PM =   10   #N\n",
    "L1 =   12   #m\n",
    "L2 =    2   #m\n",
    "r = 0.004   #m\n",
    "Sy =  340*10**6   #Pa\n",
    "\n",
    "load = Load(lambda x: 5,(0,0,0),(5,0,0),Load.Y)\n",
    "load.getForce((0,0,0),(5,0,0)).disp()\n",
    "\n",
    "# Define geometry\n",
    "A = (0,0,0)\n",
    "B = (L1,0,0)\n",
    "C = (L1+L2,0,0)\n",
    "\n",
    "# Define acting forces\n",
    "P = Vector('c',0,-PM,0,B)\n",
    "L = load.getForce(load.start,load.end)\n",
    "\n",
    "# Define variable form reaction forces\n",
    "A_x,A_y,C_y = symbols('A_x A_y C_y')\n",
    "F_A = Vector('c',A_x,A_y,0,A)\n",
    "F_C = Vector('c',0,C_y,0,C)\n",
    "\n",
    "# Sum forces and moments\n",
    "F_net = sumForces([P,L,F_A,F_C])\n",
    "M_net = sumMoments(A,[P,L,F_A,F_C],[])\n",
    "\n",
    "# Solve for reaction force components\n",
    "u = solve([F_net.x,F_net.y,M_net.z],[A_x,A_y,C_y],show=True)\n",
    "Ax,Ay,Cy = [v[0] for v in u]\n",
    "FA = Vector('c',Ax,Ay,0,A)\n",
    "FC = Vector('c',0,Cy,0,C)"
   ]
  },
  {
   "cell_type": "code",
   "execution_count": 7,
   "metadata": {},
   "outputs": [
    {
     "data": {
      "image/png": "[encoded data removed]",
      "text/plain": [
       "<Figure size 432x288 with 4 Axes>"
      ]
     },
     "metadata": {
      "needs_background": "light"
     },
     "output_type": "display_data"
    }
   ],
   "source": [
    "# Shear moment diagrams\n",
    "x,vy,My,vz,Mz = shearMomentDiagram([load],[P,FA,FC],[],A,C,axis=1)"
   ]
  },
  {
   "cell_type": "code",
   "execution_count": 8,
   "metadata": {},
   "outputs": [
    {
     "name": "stdout",
     "output_type": "stream",
     "text": [
      "tau_max = 82.4219 MPa\n",
      "N = 4.1251\n"
     ]
    }
   ],
   "source": [
    "# Stress in a beam:\n",
    "#    sig_x  = My/I\n",
    "#    sig_xy = VQ/It\n",
    "#    where x is in the direction of the length of the beam, and y is the direction of the shear forces\n",
    "\n",
    "# Point of Interest, I, Q\n",
    "poi = My.index(max(My))\n",
    "I = 1/4 * np.pi * r**4\n",
    "Q = 1/2 * np.pi * r**3\n",
    "\n",
    "# In the y:\n",
    "sigY_x = -My[poi]*r/I\n",
    "sigY_xy = vy[poi]*Q/(I*2*r)\n",
    "\n",
    "# In the z:\n",
    "sigZ_x = -Mz[poi]*r/I\n",
    "sigZ_xz = vz[poi]*Q/(2*r*I)\n",
    "\n",
    "# In total:\n",
    "sig_xx = sigY_x + sigZ_x\n",
    "sig_xy = sigY_xy\n",
    "sig_xz = sigZ_xz\n",
    "\n",
    "sig = [[sig_xx,sig_xy,sig_xz],\n",
    "       [sig_xy,0,0],\n",
    "       [sig_xz,0,0]]\n",
    "\n",
    "prin_str = list(np.linalg.eigvals(sig))\n",
    "prin_str.sort(reverse=True)\n",
    "sig1,sig2,sig3 = prin_str\n",
    "\n",
    "tau_max = abs(sig1-sig3)/2\n",
    "\n",
    "N = Sy/tau_max\n",
    "\n",
    "print(\"tau_max = {} MPa\".format(round(tau_max*10**-6,4)))\n",
    "print(\"N = {}\".format(round(N,4)))"
   ]
  },
  {
   "cell_type": "code",
   "execution_count": null,
   "metadata": {},
   "outputs": [],
   "source": []
  }
 ],
 "metadata": {
  "kernelspec": {
   "display_name": "Python 3",
   "language": "python",
   "name": "python3"
  },
  "language_info": {
   "codemirror_mode": {
    "name": "ipython",
    "version": 3
   },
   "file_extension": ".py",
   "mimetype": "text/x-python",
   "name": "python",
   "nbconvert_exporter": "python",
   "pygments_lexer": "ipython3",
   "version": "3.7.6"
  }
 },
 "nbformat": 4,
 "nbformat_minor": 4
}
