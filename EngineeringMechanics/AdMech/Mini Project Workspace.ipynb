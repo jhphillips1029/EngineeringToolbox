{
 "cells": [
  {
   "cell_type": "markdown",
   "metadata": {},
   "source": [
    "$\\textbf{EMEC 341 Mini-Project}$\n",
    "<p>Katie Berg</p>\n",
    "<p>Joshua Phillips</p>\n",
    "<p>Jeffery Werner</p>"
   ]
  },
  {
   "cell_type": "markdown",
   "metadata": {},
   "source": [
    "<p><b>The diameter of the shaft supporting one of the gears and the cam needs to be estimated as part of an initial redesign effort to enhance product performance.</b> Based on previous design, the expected loads on the gear and the cam are as shown to the right. The locations of the two support bearings and the shaft length are as shown. Assume the bearings only act to introduce reaction forces, but do not support moments themselves. The shaft material is steel with $S_{ut} = 87$ ksi and $S_y = 63$ ksi and behaves as a ductile material at the operating conditions. A design safety factor of $N = 2.25$ is required. The nail gun is not generally considered a high cycle fatigue product, therefore we can maker our initial estimate based on a static analysis.</p>\n",
    "\n",
    "$\\graphicspath{{./}}$\n",
    "$\\includegraphics[scale=0.5]{EMEC341_NailGun}$\n",
    "$\\includegraphics[scale=0.5]{EMEC341_Shaft.png}$"
   ]
  },
  {
   "cell_type": "markdown",
   "metadata": {},
   "source": [
    "$\\textbf{Introduction:}$\n",
    "\n",
    "<p>Nail guns use a relatively basic design to repeatedly move nails through the gun. The main components to moving the nail is a vertical shaft with a cam on one side and a gear on the other. This system is the main component to the nail gun, so it is vital that the system does not fail. The coordinate system was set with the Y axis in-line with the shaft, and the origin at the bottom of the shaft. The bottom of the shaft being point A and the top being point B. There are forces acting in the X and Z direction on both the cam and the gear, which create resultant forces at point A and B. The objective is to find the minimum diameter of the shaft given the conditions and a safety factor of 2.25.</p>\n",
    "\n",
    "<p>By solving for the moments at point A and B the reaction forces at those points can be found. Once the reaction forces are found the shear force and moment diagrams can be found. By using the shear and moments the max stress and its location can be found. The moment and shear forces allow sigma in all directions to be found. With the stress in all directions, the principal stresses can be found and the max stress can then be calculated. With the given yield strength and max stress of the shaft along with the safety factor the required minimum diameter of the shaft can be found.</p>\n",
    "\n",
    "<p>The maximum stress on the shaft is the key value to determining the minimum diameter because the diameter is directly correlated to the strength of the shaft. The location of the max stress will be where the strength of the shaft would have to be its highest, thus the location where the diameter of the shaft is most important.</p>"
   ]
  },
  {
   "cell_type": "markdown",
   "metadata": {},
   "source": [
    "$\\textbf{Strategy to Solve:}$\n",
    "\n",
    "<ol>\n",
    "    <li>Determine reaction forces at A and B.</li>\n",
    "    <li>Create shear/moment diagrams for the forces acting the x-direction and repeat for forces in the z-direction.</li>\n",
    "    <li>Determine largest moment and analyze stresses at that point in the material.</li>\n",
    "</ol>"
   ]
  },
  {
   "cell_type": "markdown",
   "metadata": {},
   "source": [
    "$\\textbf{Given and Assumptions:}$"
   ]
  },
  {
   "cell_type": "code",
   "execution_count": 1,
   "metadata": {},
   "outputs": [],
   "source": [
    "# Given\n",
    "R_gear = 0.500   #in\n",
    "h_gear = 0.500   #in\n",
    "h_cam  = 1.250   #in\n",
    "h_end  = 1.500   #in\n",
    "l_cam  = 0.625   #in\n",
    "\n",
    "F_cam_x_mag = 30.000 #lb\n",
    "F_cam_z_mag = 16.000 #lb\n",
    "F_gear_x_mag=  8.000 #lb\n",
    "F_gear_z_mag= 20.000 #lb\n",
    "\n",
    "N = 2.25\n",
    "Sy  = 63000   #psi\n",
    "Sut = 87000   #psi\n",
    "\n",
    "# Assumptions\n",
    "E = 2.901e+7  #psi, conversion of general modulus of 200 GPa\n",
    "nu = 0.33     #NaN, general Poisson's ratio"
   ]
  },
  {
   "cell_type": "markdown",
   "metadata": {},
   "source": [
    "$\\textbf{Determining Reaction Forces:}$\n",
    "\n",
    "<p>We will define the forces acting on the shaft, the reaction forces from the shaft supports at A and B, and solve for the components of said reaction forces.</p>\n",
    "\n",
    "<p>The module StaticsSolverV2 is a custom-built module available $\\href{https://raw.githubusercontent.com/jhphillips1029/engineeringMechanics/master/Statics%20Solver/StaticsSolverV2.py}{here}$.</p>"
   ]
  },
  {
   "cell_type": "code",
   "execution_count": 2,
   "metadata": {
    "scrolled": false
   },
   "outputs": [
    {
     "name": "stdout",
     "output_type": "stream",
     "text": [
      "A\n",
      " [[ 1.   0.   1.   0. ]\n",
      " [ 0.   1.   0.   1. ]\n",
      " [ 0.   0.   0.   1.5]\n",
      " [ 0.   0.  -1.5  0. ]]\n",
      "\n",
      "B\n",
      " [[-22. ]\n",
      " [-36. ]\n",
      " [-30. ]\n",
      " [ 33.5]] \n",
      "\n",
      "[ 1.0    0.0    1.0    0.0]     [A_x]     [-22.0]\n",
      "[ 0.0    1.0    0.0    1.0]     [A_z]     [-36.0]\n",
      "[ 0.0    0.0    0.0    1.5]  *  [B_x]  =  [-30.0]\n",
      "[ 0.0    0.0   -1.5    0.0]     [B_z]     [ 33.5]\n",
      "\n",
      "\n",
      "[A_x]     [  0.3333]\n",
      "[A_z]     [   -16.0]\n",
      "[B_x]  =  [-22.3333]\n",
      "[B_z]     [   -20.0]\n"
     ]
    }
   ],
   "source": [
    "# Import relevant modules\n",
    "from StaticsSolverV2 import *\n",
    "\n",
    "# Define coordinate system\n",
    "'''\n",
    "y           y to top of page\n",
    " |__ x      x to right of page\n",
    " /          z out of the page\n",
    "z\n",
    "'''\n",
    "\n",
    "# Define relevant locations\n",
    "A = (0,0,0)\n",
    "B = (0,h_end,0)\n",
    "F_gear_loc = (R_gear,h_gear,0)\n",
    "F_cam_loc = (-l_cam,h_cam,0)\n",
    "\n",
    "# Define variable form reaction forces\n",
    "A_x,A_z,B_x,B_z = symbols('A_x A_z B_x B_z')\n",
    "F_A = Vector('c',A_x,0,A_z,A)\n",
    "F_B = Vector('c',B_x,0,B_z,B)\n",
    "\n",
    "# Defining forces acting on assembly\n",
    "F_gear = Vector('c',-F_gear_x_mag,0,F_gear_z_mag,F_gear_loc)\n",
    "F_cam = Vector('c',F_cam_x_mag,0,F_cam_z_mag,F_cam_loc)\n",
    "\n",
    "# Sum forces and moments\n",
    "F_net = sumForces([F_A,F_B,F_gear,F_cam])\n",
    "M_net = sumMoments(A,[F_A,F_B,F_gear,F_cam],[])\n",
    "\n",
    "# Solve for reaction force components\n",
    "u = solve([F_net.x,F_net.z,M_net.x,M_net.z],[A_x,A_z,B_x,B_z],show=True)\n",
    "Ax,Az,Bx,Bz = u\n",
    "\n",
    "# Define reaction forces\n",
    "FA = Vector('c',Ax[0],0,Az[0],A)\n",
    "FB = Vector('c',Bx[0],0,Bz[0],B)"
   ]
  },
  {
   "cell_type": "markdown",
   "metadata": {},
   "source": [
    "$\\textbf{Creating Shear-Moment Diagrams:}$\n",
    "\n",
    "<p>We will define and populate arrays necessary to plot the shear-moment diagrams, using numerical integration of the shear arrays to define and populate the moment arrays. The shear-moment diagrams will then be plotted in an intelligible manner.</p>"
   ]
  },
  {
   "cell_type": "code",
   "execution_count": 3,
   "metadata": {},
   "outputs": [
    {
     "data": {
      "image/png": "[encoded data removed]",
      "text/plain": [
       "<Figure size 432x288 with 4 Axes>"
      ]
     },
     "metadata": {
      "needs_background": "light"
     },
     "output_type": "display_data"
    }
   ],
   "source": [
    "# Import relevant modules\n",
    "import matplotlib.pyplot as plt\n",
    "import numpy as np\n",
    "%matplotlib inline\n",
    "\n",
    "# Define variables for plotting\n",
    "Nx = 1000\n",
    "dy = h_end/Nx\n",
    "y = [dy*step for step in range(Nx)]\n",
    "vx = [0]*Nx\n",
    "vz = [0]*Nx\n",
    "\n",
    "# Fill arrays for shear diagrams\n",
    "for i in range(Nx):\n",
    "    vx[i] = sum([vec.x for vec in [FA,FB,F_gear,F_cam] if vec.y_0 <= dy*i])\n",
    "\n",
    "for i in range(Nx):\n",
    "    vz[i] = sum([vec.z for vec in [FA,FB,F_gear,F_cam] if vec.y_0 <= dy*i])\n",
    "\n",
    "# Numerically integrate\n",
    "Mx = [np.trapz(vx[:i],y[:i]) for i in range(Nx)]\n",
    "Mz = [np.trapz(vz[:i],y[:i]) for i in range(Nx)]\n",
    "\n",
    "# Plot diagrams\n",
    "fig,axs = plt.subplots(2,2)\n",
    "\n",
    "axs[0][0].plot(y,vx,'r')\n",
    "axs[0][0].set_title(\"Shear in the x\")\n",
    "axs[0][0].set_xlabel(\"Height (in)\")\n",
    "axs[0][0].set_ylabel(\"Force (lb)\")\n",
    "\n",
    "axs[1][0].plot(y,Mx,'b')\n",
    "axs[1][0].set_title(\"Moment in the x\")\n",
    "axs[1][0].set_xlabel(\"Height (in)\")\n",
    "axs[1][0].set_ylabel(\"Moment (lb-in)\")\n",
    "\n",
    "axs[0][1].plot(y,vz,'r')\n",
    "axs[0][1].set_title(\"Shear in the z\")\n",
    "axs[0][1].set_xlabel(\"Height (in)\")\n",
    "axs[0][1].set_ylabel(\"Force (lb)\")\n",
    "\n",
    "axs[1][1].plot(y,Mz,'b')\n",
    "axs[1][1].set_title(\"Moment in the z\")\n",
    "axs[1][1].set_xlabel(\"Height (in)\")\n",
    "axs[1][1].set_ylabel(\"Moment (lb-in)\")\n",
    "\n",
    "fig.tight_layout()"
   ]
  },
  {
   "cell_type": "markdown",
   "metadata": {},
   "source": [
    "$\\textbf{Stress Analysis:}$\n",
    "\n",
    "<p>Examining the shear-moment diagrams, it appears that the most stress will occur where the cam is attached, so that is the point we will focus in on, using the equations:\n",
    "\n",
    "$$\\sigma_{yy} = \\dfrac{(-M_z + M_x)r}{I}$$\n",
    "$$\\sigma_{xz} = \\dfrac{V_zQ}{2Ir}$$\n",
    "$$\\sigma_{xy} = \\dfrac{V_xQ}{2Ir}$$\n",
    "\n",
    "and solving for the principal strains to calculate the maximum shear stress as:\n",
    "\n",
    "$$\\tau_{max} = \\dfrac{\\left| \\sigma_1 - \\sigma_3 \\right|}{2}$$\n",
    "\n",
    "where $\\sigma_1$ and $\\sigma_3$ are the maximum and minimum principal stresses, respectively.</p>\n",
    "\n",
    "<p>From there, we can use a Tresca failure criterion and evaluate for the safety factor, N, as:\n",
    "\n",
    "$$N = \\dfrac{S_y}{\\tau_{max}}$$\n",
    "\n",
    "</p>\n",
    "\n",
    "<p>The necessary diameter of the shaft will be determined by brute-force iteration.</p>"
   ]
  },
  {
   "cell_type": "code",
   "execution_count": 8,
   "metadata": {},
   "outputs": [
    {
     "name": "stdout",
     "output_type": "stream",
     "text": [
      "Necessary Diameter: 0.126\"\n"
     ]
    }
   ],
   "source": [
    "# Determine point of interest and shear and moments acting at that point\n",
    "indx_min = Mx.index(min(Mx))\n",
    "Mx_interest = min(Mx)\n",
    "Mz_interest = Mz[indx_min]\n",
    "Vx_interest = vx[indx_min]\n",
    "Vz_interest = vz[indx_min]\n",
    "\n",
    "# Define first and second moments of area equations\n",
    "Q_eq = lambda i: 1/2 * np.pi * r**3\n",
    "I_eq = lambda r: 1/4 * np.pi * r**4\n",
    "\n",
    "# Iterate\n",
    "step = 1.0e-5\n",
    "r = step\n",
    "for n in range(int(1.0e6)):\n",
    "    # Determine\n",
    "    I=I_eq(r)\n",
    "    Q=Q_eq(indx_min)\n",
    "    \n",
    "    # Determine maximum shear stress\n",
    "    sig_yy = (-Mx_interest-Mz_interest)*r/I\n",
    "    sig_yz = Vz_interest*Q/(I*2*r)\n",
    "    sig_xy = Vx_interest*Q/(I*2*r)\n",
    "    sig = [[0,sig_xy,0],\n",
    "           [sig_xy,sig_yy,sig_yz],\n",
    "           [0,sig_yz,0]]\n",
    "    prin_str = list(np.linalg.eigvals(sig))\n",
    "    prin_str.sort(reverse=True)\n",
    "    sig1,sig2,sig3 = prin_str\n",
    "    tau_max = abs(sig1-sig3)/2\n",
    "    \n",
    "    # Determine safety factor\n",
    "    N_test = Sy/tau_max\n",
    "    \n",
    "    # Decide if safety factor is acceptable\n",
    "    if N_test >= N:\n",
    "        break\n",
    "    else:\n",
    "        r += step\n",
    "        \n",
    "# Print results\n",
    "print(\"Necessary Diameter: {}\\\"\".format(round(2*r,4)))"
   ]
  },
  {
   "cell_type": "markdown",
   "metadata": {},
   "source": [
    "$\\textbf{Conclusion:}$\n",
    "\n",
    "<p>By solving for the reaction forces, plotting shear-moment diagrams and determing a maximum shear stress, it was possible to determine a reasonable diameter for the shaft as:\n",
    "$$D_{shaft}=0.1260\\text{  in}$$\n",
    "</p>"
   ]
  }
 ],
 "metadata": {
  "kernelspec": {
   "display_name": "Python 3",
   "language": "python",
   "name": "python3"
  },
  "language_info": {
   "codemirror_mode": {
    "name": "ipython",
    "version": 3
   },
   "file_extension": ".py",
   "mimetype": "text/x-python",
   "name": "python",
   "nbconvert_exporter": "python",
   "pygments_lexer": "ipython3",
   "version": "3.7.6"
  }
 },
 "nbformat": 4,
 "nbformat_minor": 4
}
