{
 "cells": [
  {
   "cell_type": "code",
   "execution_count": 1,
   "metadata": {},
   "outputs": [],
   "source": [
    "import numpy as np"
   ]
  },
  {
   "cell_type": "markdown",
   "metadata": {},
   "source": [
    "$\\textbf{This is bold LaTex text.}$\n",
    "\n",
    "<p>And this is HTML paragraph text!</p>"
   ]
  },
  {
   "cell_type": "code",
   "execution_count": 2,
   "metadata": {},
   "outputs": [
    {
     "data": {
      "text/latex": [
       "\\newpage"
      ],
      "text/plain": [
       "<IPython.core.display.Latex object>"
      ]
     },
     "metadata": {},
     "output_type": "display_data"
    }
   ],
   "source": [
    "from IPython.display import Latex\n",
    "display(Latex(r\"\\newpage\"))"
   ]
  },
  {
   "cell_type": "markdown",
   "metadata": {},
   "source": [
    "<h1>And this is a new page!</h1>"
   ]
  },
  {
   "cell_type": "code",
   "execution_count": 3,
   "metadata": {},
   "outputs": [],
   "source": [
    "def tensorToVector(tensor):\n",
    "    vec = [tensor[i][i] for i in range(3)]\n",
    "    vec += [tensor[2][1]]\n",
    "    vec += [tensor[0][2]]\n",
    "    vec += [tensor[0][1]]\n",
    "    vec = np.array(vec).reshape(len(vec),1)\n",
    "    \n",
    "    return vec\n",
    "\n",
    "def vectorToTensor(vec):\n",
    "    tens = [[vec[0][0],vec[5][0],vec[4][0]],\n",
    "            [vec[5][0],vec[1][0],vec[3][0]],\n",
    "            [vec[4][0],vec[3][0],vec[2][0]]]\n",
    "    \n",
    "    return tens\n",
    "\n",
    "def getC(E,nu):\n",
    "    # eps = C sig\n",
    "    C = [[1,-nu,-nu,0,0,0],\n",
    "         [-nu,1,-nu,0,0,0],\n",
    "         [-nu,-nu,1,0,0,0],\n",
    "         [0,0,0,1+nu,0,0],\n",
    "         [0,0,0,0,1+nu,0],\n",
    "         [0,0,0,0,0,1+nu]]\n",
    "    C = [[1/E*v for v in L] for L in C]\n",
    "    \n",
    "    return C\n",
    "\n",
    "def getS(E,nu):\n",
    "    # sig = S eps\n",
    "    S = [[1-nu,nu,nu,0,0,0],\n",
    "         [nu,1-nu,nu,0,0,0],\n",
    "         [nu,nu,1-nu,0,0,0],\n",
    "         [0,0,0,1-2*nu,0,0],\n",
    "         [0,0,0,0,1-2*nu,0],\n",
    "         [0,0,0,0,0,1-2*nu]]\n",
    "    S = [[E/( (1+nu) * (1 - (2*nu)) ) * v for v in L] for L in S]\n",
    "    \n",
    "    return S"
   ]
  },
  {
   "cell_type": "code",
   "execution_count": 4,
   "metadata": {},
   "outputs": [],
   "source": [
    "E = 72  #GPa\n",
    "nu = 0.33 #NaN\n",
    "\n",
    "eps_1 = -0.004\n",
    "eps_2 = -0.006\n",
    "\n"
   ]
  },
  {
   "cell_type": "code",
   "execution_count": 9,
   "metadata": {},
   "outputs": [
    {
     "data": {
      "application/javascript": [
       "var nb = IPython.notebook;\n",
       "var kernel = IPython.notebook.kernel;\n",
       "var command = \"curr_nb = '\" + nb.notebook_name + \"'\";\n",
       "kernel.execute(command);\n"
      ],
      "text/plain": [
       "<IPython.core.display.Javascript object>"
      ]
     },
     "metadata": {},
     "output_type": "display_data"
    }
   ],
   "source": [
    "%%javascript\n",
    "var nb = IPython.notebook;\n",
    "var kernel = IPython.notebook.kernel;\n",
    "var command = \"curr_nb = '\" + nb.notebook_name + \"'\";\n",
    "kernel.execute(command);"
   ]
  },
  {
   "cell_type": "code",
   "execution_count": 22,
   "metadata": {},
   "outputs": [
    {
     "data": {
      "text/plain": [
       "CompletedProcess(args=['jupyter', 'nbconvert', '--to', 'latex', 'Untitled.ipynb'], returncode=0)"
      ]
     },
     "execution_count": 22,
     "metadata": {},
     "output_type": "execute_result"
    }
   ],
   "source": [
    "import subprocess\n",
    "subprocess.run([\"jupyter\",\"nbconvert\",\"--to\",\"latex\",curr_nb])"
   ]
  },
  {
   "cell_type": "code",
   "execution_count": 23,
   "metadata": {},
   "outputs": [
    {
     "name": "stdout",
     "output_type": "stream",
     "text": [
      "\tHey! This is it!\n"
     ]
    },
    {
     "data": {
      "text/plain": [
       "96689"
      ]
     },
     "execution_count": 23,
     "metadata": {},
     "output_type": "execute_result"
    }
   ],
   "source": [
    "f = open(curr_nb.replace(\".ipynb\",\"\")+\".tex\")\n",
    "f_lines = f.readlines()\n",
    "f.close()\n",
    "\n",
    "f_linesNew = []\n",
    "for line in f_lines:\n",
    "    if line.strip() == \"\\\\newpage\":\n",
    "        for i in range(8):\n",
    "            f_linesNew.pop()\n",
    "        f_linesNew += [line]\n",
    "        continue\n",
    "    else:\n",
    "        f_linesNew += [line]\n",
    "        \n",
    "f_newText = \"\".join(f_linesNew)\n",
    "f_new = open(curr_nb.replace(\".ipynb\",\"\")+\".tex\",\"w\")\n",
    "f_new.write(f_newText)"
   ]
  },
  {
   "cell_type": "code",
   "execution_count": 1,
   "metadata": {},
   "outputs": [],
   "source": [
    "from StaticsSolverV3 import *"
   ]
  },
  {
   "cell_type": "code",
   "execution_count": 9,
   "metadata": {},
   "outputs": [
    {
     "name": "stdout",
     "output_type": "stream",
     "text": [
      "<-56250.0,0,0> @ (None,None,None)\n",
      "<0,-56250.0,0> @ (None,None,None)\n",
      "<0,0,-0.9999999989416093> @ (None,None,None)\n",
      "-53146725545.208336\n",
      "-3750.0000019844824\n",
      "-7.93793031726294e-06\n"
     ]
    }
   ],
   "source": [
    "r = Vector('c',0,0,7500,(0,0,0))\n",
    "v = Vector('c',0,7.5,0,(0,0,0))\n",
    "mu = 3.986004418*10**14\n",
    "\n",
    "h = Vector.cross(r,v)\n",
    "n = Vector.cross(Vector('c',0,0,1,(0,0,0)),h)\n",
    "e = Vector.scalarMult(Vector.add( Vector.scalarMult(r,Vector.mag(v)**2-mu/Vector.mag(r)), Vector.scalarMult(v,-Vector.dot(r,v)) ),1/mu)\n",
    "E = Vector.mag(v)**2/2 - mu/Vector.mag(r)\n",
    "a = mu/(2*E)\n",
    "p = a*(1-Vector.mag(e)**2) if Vector.mag(e)!= 0 else Vector.mag(h)**2/mu\n",
    "\n",
    "h.disp()\n",
    "n.disp()\n",
    "e.disp()\n",
    "print(E)\n",
    "print(a)\n",
    "print(p)"
   ]
  },
  {
   "cell_type": "code",
   "execution_count": null,
   "metadata": {},
   "outputs": [],
   "source": []
  }
 ],
 "metadata": {
  "kernelspec": {
   "display_name": "Python 3",
   "language": "python",
   "name": "python3"
  },
  "language_info": {
   "codemirror_mode": {
    "name": "ipython",
    "version": 3
   },
   "file_extension": ".py",
   "mimetype": "text/x-python",
   "name": "python",
   "nbconvert_exporter": "python",
   "pygments_lexer": "ipython3",
   "version": "3.7.6"
  }
 },
 "nbformat": 4,
 "nbformat_minor": 4
}
