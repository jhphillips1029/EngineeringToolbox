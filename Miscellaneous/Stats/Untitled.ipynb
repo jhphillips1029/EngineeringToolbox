{
 "cells": [
  {
   "cell_type": "markdown",
   "metadata": {},
   "source": [
    "<h1>Data Analysis For Engineers (Statistics Lite)</h1>\n",
    "\n",
    "<h3>Basic Statistics (Chp 2)</h3>\n",
    "\n",
    "<h6>Definitions</h6>\n",
    "$$\\begin{array}{cc}\n",
    "S & \\text{The sample space} \\\\\n",
    "A,B & \\text{Events, subsets of the sample space} \\\\\n",
    "\\cup & \\text{Union, equivalent of boolean ||} \\\\\n",
    "\\cap & \\text{Intersection, equivalent of boolean &&} \\\\\n",
    "' & \\text{Complement, equivalent of boolean !} \\\\\n",
    "\\emptyset & \\text{Empty set} \\\\\n",
    "\\end{array}$$\n",
    "\n",
    "<h6>Equations</h6>\n",
    "$$\\begin{array}{cc}\n",
    "P(A \\cup B) = P(A) + P(B) & \\text{When events A and B are disjoint} \\\\\n",
    "P(A \\cup B) = P(A) + P(B) - P(A \\cap B) & \\text{When events A and B are not disjoint} \\\\\n",
    "P(A|B) = \\dfrac{P(A \\cap B)}{P(B)} & \\text{Probability of A, given that B has occured} \\\\\n",
    "P(B|A) = \\dfrac{P(A \\cap B)}{P(A)} & \\text{Probability of B, given that A has occured} \\\\\n",
    "P(A|B) = \\dfrac{P(B|A_i)\\cdot P(A_i)}{\\sum_i (P(B|A_i)\\cdot P(A_i))} & \\text{Bayes Theorem (WTF is this again?)} \\\\\n",
    "\\begin{array}{c}\n",
    "P(A \\cap B) = P(A) \\cdot P(B) \\\\ \n",
    "P(A|B) = P(A) \\\\\n",
    "P(B|A) = P(B) \\\\\n",
    "\\end{array} & \\text{Two events are independent if any one of these evaluate as true.}\n",
    "\\end{array}$$"
   ]
  },
  {
   "cell_type": "code",
   "execution_count": 1,
   "metadata": {},
   "outputs": [],
   "source": [
    "# To be dealt with later"
   ]
  },
  {
   "cell_type": "markdown",
   "metadata": {},
   "source": [
    "<h3>Probabiliyt Functions (Chp 4)</h3>\n",
    "\n",
    "<h6>Definitions</h6>\n",
    "$$\\begin{array}{cc}\n",
    "f(x) & \\text{Probability density function, where $f(x)$ is the derivative of $F(x)$} \\\\\n",
    "F(x) & \\text{Cumulative distribution function, where $F(x) = P(X \\le x) = \\int_{-\\infty}^x f(u)du$} \\\\ % what an incredibly helpful definition. The function is equal to the integral of its derivative\n",
    "\\mu & \\text{The mean of a set of data} \\\\\n",
    "\\sigma & \\text{The standard deviation of a set of data} \\\\\n",
    "\\sigma^2 & \\text{The variance of a set of data} \\\\\n",
    "\\end{array}$$\n",
    "\n",
    "<h6>Equations</h6>\n",
    "$$\\begin{array}{cc}\n",
    "X \\sim N(\\mu, \\sigma^2) & \\text{Distribution notation, the random variable $X$ follows a normal distribution with mean $\\mu$ and variance $\\sigma^2$} \\\\\n",
    "Z = \\dfrac{X - \\mu}{\\sigma} & \\text{Standaradize formula when calculating probabilities about $X$} \\\\\n",
    "Z \\sim N(0,1) & \\text{Standard Normal Distribution} \\\\\n",
    "\\end{array}$$"
   ]
  },
  {
   "cell_type": "code",
   "execution_count": 2,
   "metadata": {},
   "outputs": [],
   "source": [
    "# Code coming soon"
   ]
  },
  {
   "cell_type": "markdown",
   "metadata": {},
   "source": [
    "<h3>Population and Sample (Chp 6)</h3>\n",
    "\n",
    "<h6>Definitions</h6>\n",
    "$$\\begin{array}{cc}\n",
    "N & \\text{Population size (if finite)} \\\\\n",
    "n & \\text{Sample size} \\\\\n",
    "\\text{Min} & \\text{Sample minimum} \\\\\n",
    "\\text{Max} & \\text{Sample maximum} \\\\\n",
    "Q_1 & \\text{Sample 1st quartile, }\\text{25% of sample data values are $\\le Q_1$} \\\\\n",
    "Q_3 & \\text{Sample 1st quartile, }\\text{75% of sample data values are $\\le Q_3$} \\\\\n",
    "\\tilde{X} & \\text{Sample median, }\\text{50% of sample data values are $\\le \\tilde{X}$} \\\\\n",
    "\\end{array}$$\n",
    "\n",
    "<h6>Equations</h6>\n",
    "$$\\begin{array}{cc}\n",
    "\\mu_X = \\dfrac{\\sum_{i=1}^N X_i}{N} & \\text{Population mean ($\\mu_X = \\mu$ )} \\\\\n",
    "\\sigma_X^2 = \\dfrac{\\sum_{i=1}^N (X_i - \\mu)^2}{N} & \\text{Population variance ($\\sigma_X^2 = \\sigma^2$)} \\\\\n",
    "\\sigma_X = \\sqrt{\\dfrac{\\sum_{i=1}^N (X_i - \\mu)^2}{N}} & \\text{Population standard deviation ($\\sigma_X = \\sigma$)} \\\\\n",
    "\\bar{X} = \\dfrac{\\sum_{i=1}^N X_i}{n} & \\text{Sample mean} \\\\\n",
    "S^2 = \\dfrac{\\sum_{i=1}^n (X_i - \\bar{X})}{n} & \\text{Sample variance} \\\\\n",
    "S= \\sqrt{\\dfrac{\\sum_{i=1}^n (X_i - \\bar{X})}{n}} & \\text{Sample standard deviation} \\\\\n",
    "\\end{array}$$"
   ]
  },
  {
   "cell_type": "code",
   "execution_count": 3,
   "metadata": {},
   "outputs": [],
   "source": [
    "# Code coming to a cell near you"
   ]
  },
  {
   "cell_type": "markdown",
   "metadata": {},
   "source": [
    "<h3>More Sample and Population (Chp 7)</h3>\n",
    "\n",
    "<h6>Definitions</h6>\n",
    "$$\\begin{array}{cc}\n",
    "\\mu_\\bar{X} = \\mu_X & \\text{Mean of all possible sample means of samples of size n from population} \\\\\n",
    "\\end{array}$$\n",
    "\n",
    "<h6>Equations</h6>\n",
    "$$\\begin{array}{cc}\n",
    "\\sigma_\\bar{X}^2 = \\dfrac{\\sigma_X^2}{\\sqrt{n}} & \\text{Variance of all possible means of samples of size n from population} \\\\ % Is this actually correct?\n",
    "\\sigma_\\bar{X} = \\dfrac{\\sigma_X}{\\sqrt{n}} & \\text{Standard deviation of all possible means  of samples of size n from population} \\\\\n",
    "SE(\\bar{X}) = \\dfrac{S}{\\sqrt{n}}  & \\text{Standard error of all possible sample means of samples of size n from population} \\\\\n",
    "Z = \\dfrac{\\bar{X}-\\mu}{\\sigma/\\sqrt{n}} & \\text{Standardize Formula when calculating probabilities about $\\bar{X}$} \\\\\n",
    "\\end{array}$$"
   ]
  },
  {
   "cell_type": "code",
   "execution_count": 4,
   "metadata": {},
   "outputs": [],
   "source": [
    "# You know it, code coming soon"
   ]
  },
  {
   "cell_type": "markdown",
   "metadata": {},
   "source": [
    "<h3>Confidence Level (Chp 8))</h3>\n",
    "\n",
    "<h6>Definitions</h6>\n",
    "$$\\begin{array}{cc}\n",
    "\\bar{X} \\pm Z_{\\alpha/2} \\dfrac{\\sigma}{\\sqrt{n}} & \\text{Two-sided CI for the population mean, when $\\sigma$ is known} \\\\\n",
    "\\bar{X} + Z_\\alpha \\dfrac{\\sigma}{\\sqrt{n}} & \\text{Upper bound for the population mean, when $\\sigma$ is known} \\\\\n",
    "\\bar{X} - Z_\\alpha \\dfrac{\\sigma}{\\sqrt{n}} & \\text{Lower bound for the population mean, when $\\sigma$ is known} \\\\\n",
    "\\bar{X} \\pm T_{\\alpha/2} \\dfrac{S}{\\sqrt{n}} & \\text{Two-sided CI for the population mean, when $\\sigma$ is NOT known} \\\\\n",
    "\\bar{X} + T_{\\alpha/2} \\dfrac{S}{\\sqrt{n}} & \\text{Upper bound for the population mean, when $\\sigma$ is NOT known} \\\\\n",
    "\\bar{X} - T_{\\alpha/2} \\dfrac{S}{\\sqrt{n}} & \\text{Lower bound CI for the population mean, when $\\sigma$ is NOT known} \\\\\n",
    "\\end{array}$$\n",
    "\n",
    "<h6>Equations</h6>\n",
    "$$\\begin{array}{cc}\n",
    "C = 1 - \\alpha & \\text{Confidence level} \\\\\n",
    "E = Z_{\\alpha/2} \\dfrac{\\sigma}{\\sqrt{n}} & \\text{Margin of error for a two-sided CI} \\\\\n",
    "E = Z_{\\alpha} \\dfrac{\\sigma}{\\sqrt{n}} & \\text{Margin of error for a one-sided CI} \\\\\n",
    "n = \\left( \\dfrac{Z_{\\alpha/2}\\cdot\\sigma}{E} \\right)^2 & \\text{Sample size for two-sided hypothesis test, given C and E} \\\\\n",
    "n = \\left( \\dfrac{Z_\\alpha\\cdot\\sigma}{E} \\right)^2 & \\text{Sample size for one-sided hypothesis test, given C and E}\n",
    "\\end{array}$$"
   ]
  },
  {
   "cell_type": "code",
   "execution_count": 5,
   "metadata": {},
   "outputs": [],
   "source": [
    "# Code goes here"
   ]
  },
  {
   "cell_type": "markdown",
   "metadata": {},
   "source": [
    "<h3>Hypothesis Testing (Chp 9)</h3>\n",
    "\n",
    "<h6>Definitions</h6>\n",
    "$$\\begin{array}{cc}\n",
    "\\alpha & \\begin{array}{c}\\text{Significance level, and} \\\\ \\text{Probability of Type I error (False positive)}\\end{array} \\\\\n",
    "\\beta & \\text{Probability of Type II error (False negative)} \\\\\n",
    "Z_\\alpha & \\text{$Z$ value with $\\alpha$ greater-than probability} \\\\\n",
    "Z_\\beta & \\text{$Z$ value with $\\beta$ greater-than probability} \\\\\n",
    "Z_{\\alpha/2} & \\text{$Z$ value with $\\alpha/2$ greater-than probability} \\\\\n",
    "\\end{array}$$\n",
    "\n",
    "<h6>Equations</h6>\n",
    "$$\\begin{array}{cc}\n",
    "Z_0 = \\dfrac{\\bar{X}-\\mu_0}{\\sigma/\\sqrt{n}} & \\text{Test statistic for a One-sample Z test, where $Z_0 \\sim N(0,1)$}\\\\\n",
    "T_0 = \\dfrac{\\bar{X}-\\mu_0}{S/\\sqrt{n}} & \\text{Test statistic for a One-sample T test, where $T_0 \\sim t(n-1)$} \\\\\n",
    "\\delta = \\mu_a - \\mu_0 & \\text{Difference between centers of $\\bar{X}$ under $H_0$ and $H_a$} \\\\\n",
    "\\beta = 1 -P\\left( Z \\le -Z_\\alpha - \\dfrac{\\delta\\sqrt{n}}{\\sigma} \\right) & H_0: \\mu = \\mu_0 \\text{ vs. } H_a: \\mu < \\mu_0 \\\\\n",
    "\\beta = P\\left( Z \\le Z_\\alpha - \\dfrac{\\delta\\sqrt{n}}{\\sigma} \\right) & H_0: \\mu = \\mu_0 \\text{ vs. } H_a: \\mu > \\mu_0 \\\\\n",
    "\\beta = P\\left( Z \\le Z_{\\alpha/2} - \\dfrac{\\delta\\sqrt{n}}{\\sigma} \\right) - P\\left( Z \\le -Z_{\\alpha/2} - \\dfrac{\\delta\\sqrt{n}}{\\sigma} \\right) & H_0: \\mu = \\mu_0 \\text{ vs. } H_a: \\mu \\ne \\mu_0 \\\\\n",
    "\\text{Power} = 1-\\beta & \\text{Power it the probability of rejecting $H_0$ when $H_a$ is true} \\\\\n",
    "n = \\left(\\dfrac{(Z_\\alpha+Z_\\beta)\\sigma}{\\delta}\\right)^2 & \\text{Sample size calculation for a one-sided hypothesis test} \\\\\n",
    "n = \\left(\\dfrac{(Z_{\\alpha/2}+Z_\\beta)\\sigma}{\\delta}\\right)^2 & \\text{Sample size calculation for a two-sided hypothesis test} \\\\\n",
    "\\end{array}$$"
   ]
  },
  {
   "cell_type": "code",
   "execution_count": 6,
   "metadata": {},
   "outputs": [],
   "source": [
    "# Code goes here"
   ]
  },
  {
   "cell_type": "markdown",
   "metadata": {},
   "source": [
    "<h3>Workspace</h3>"
   ]
  },
  {
   "cell_type": "code",
   "execution_count": 7,
   "metadata": {},
   "outputs": [],
   "source": [
    "import scipy.stats as stats\n",
    "import numpy as np\n",
    "import matplotlib.pyplot as plt"
   ]
  },
  {
   "cell_type": "code",
   "execution_count": 8,
   "metadata": {},
   "outputs": [
    {
     "data": {
      "text/plain": [
       "0.52"
      ]
     },
     "execution_count": 8,
     "metadata": {},
     "output_type": "execute_result"
    }
   ],
   "source": [
    "def P(eq,**kwargs):\n",
    "    relational_operators = [' U ',' | ',' I ',' < ',' > ',' == ',' <= ',' >= ']\n",
    "    rel_op = \"You can't fucking spell\";\n",
    "    for operator in relational_operators:\n",
    "        if operator in eq:\n",
    "            rel_op = operator\n",
    "    \n",
    "    if rel_op == \"You can't fucking spell\":\n",
    "        raise ValueError(\"No recognized relational operator in equation: '{}'\".format(eq))\n",
    "    \n",
    "    LHS,RHS = eq.split(rel_op)\n",
    "    LHS = LHS.strip()\n",
    "    RHS = RHS.strip()\n",
    "    #print(\"LHS: '{}'\".format(LHS))\n",
    "    #print(\"RHS: '{}'\".format(RHS))\n",
    "    #print(\"RelOp: '{}'\".format(rel_op.strip()))\n",
    "    \n",
    "    if (LHS == 'Z' or LHS == 'T') and rel_op.strip() not in ['U','I','|']:\n",
    "        if RHS not in kwargs:\n",
    "            raise ValueError(\"Variable '{}' not provided. Symbolism don't mean shit here.\".format(RHS))\n",
    "        #print(\"This is a table problem, with {}: {}\".format(RHS,kwargs[RHS]))\n",
    "        if LHS == 'Z':\n",
    "            if rel_op.strip() == '<=':\n",
    "                return round(stats.norm.cdf(kwargs[RHS]),3)\n",
    "            else:\n",
    "                print(\"Only '<=' rel op supported at this time.\")\n",
    "        else:\n",
    "            if 'n' not in kwargs:\n",
    "                raise ValueError(\"Sample size 'n' not provided.\")\n",
    "            df = kwargs['n']-1\n",
    "            return round(stats.t.ppf(kwargs[RHS],df),3)\n",
    "    else:\n",
    "        #print(\"You're gonna need some equations here.\")\n",
    "        if 'S' not in kwargs:\n",
    "            raise ValueError(\"Sample space 'S' not provided.\")\n",
    "        S = kwargs['S']\n",
    "        \n",
    "        if LHS not in S.keys():\n",
    "            raise KeyError(\"Sample Space setup up improperly. No key '{}' in keys '{}'\".format(LHS,S.keys()))\n",
    "        if RHS not in S[list(S.keys())[0]].keys():\n",
    "            raise KeyError(\"Sample Space setup up improperly. No key '{}' in keys '{}'\".format(RHS,S[list(S.keys())[0]].keys()))\n",
    "        if rel_op.strip() == 'U' and 'disjoint' not in kwargs:\n",
    "            raise ValueError(\"Disjointedness ('disjoint=') not defined.\")\n",
    "        if rel_op.strip() == 'I' and 'independent' not in kwargs:\n",
    "            raise ValueError(\"Independence ('independent=') not defined.\")\n",
    "            \n",
    "        print(\"Only Z- and T-table lookups are available at this time. Apologies for the inconvenience.\")\n",
    "\n",
    "P(\"Z <= Z_0\",Z_0=0.05)"
   ]
  },
  {
   "cell_type": "code",
   "execution_count": 9,
   "metadata": {},
   "outputs": [],
   "source": [
    "# Define meaningful functions\n",
    "def closest(lst,K):\n",
    "    return lst[min(range(len(lst)), key = lambda i: abs(lst[i]-K))]\n",
    "\n",
    "def P_Z(lst,Z):\n",
    "    clstVal = closest(lst,Z)\n",
    "    indx = lst.index(clstVal)\n",
    "    return round(stats.zscore(lst)[indx],2)"
   ]
  },
  {
   "cell_type": "code",
   "execution_count": 10,
   "metadata": {},
   "outputs": [
    {
     "name": "stdout",
     "output_type": "stream",
     "text": [
      "Closest Value: 15.582407\n",
      "z_score: 0.94\n",
      "z_value: 0.8264\n",
      "std dev (calc): 0.6047\n",
      "Beta = 0.073\n",
      "Power = 0.927\n"
     ]
    },
    {
     "data": {
      "image/png": "[encoded data removed]",
      "text/plain": [
       "<Figure size 432x288 with 1 Axes>"
      ]
     },
     "metadata": {
      "needs_background": "light"
     },
     "output_type": "display_data"
    }
   ],
   "source": [
    "# Define shit\n",
    "mu = 15\n",
    "sig = 0.5\n",
    "n = 30\n",
    "\n",
    "# Generate random data\n",
    "s = list(np.random.normal(mu,sig,n))\n",
    "\n",
    "# Plot said data\n",
    "plt.hist(s)\n",
    "\n",
    "# P(Z<=15.6)\n",
    "a = 0.05\n",
    "clstVal = closest(s,15.6)\n",
    "z_score = P_Z(s,15.6)\n",
    "z_value = stats.norm.cdf(z_score)\n",
    "\n",
    "print(\"Closest Value: {}\".format(round(clstVal,6)))\n",
    "print(\"z_score: {}\".format(z_score))\n",
    "print(\"z_value: {}\".format(round(z_value,4)))\n",
    "\n",
    "# H_0: mu = mu_0\n",
    "# H_a: mu > mu_0\n",
    "mu_0 = 15.35\n",
    "\n",
    "C = 0.90\n",
    "alpha = 1-C\n",
    "X_bar = np.mean(s)\n",
    "n = len(s)\n",
    "S = np.std(s)\n",
    "print(\"std dev (calc): {}\".format(round(S,4)))\n",
    "\n",
    "mu_true = 15.1\n",
    "delta = abs(mu_true - mu_0)\n",
    "z_alpha = round(abs(stats.norm.ppf(alpha,0,1)),3)\n",
    "beta = P(\"Z <= Z_0\",Z_0=z_alpha-delta*(n)**0.5/sig)\n",
    "print(\"Beta = {}\".format(round(beta,4)))\n",
    "print(\"Power = {}\".format(round(1-beta,4)))"
   ]
  },
  {
   "cell_type": "code",
   "execution_count": 11,
   "metadata": {},
   "outputs": [
    {
     "name": "stdout",
     "output_type": "stream",
     "text": [
      "Failed to reject H0.\n",
      "Failed to reject H0.\n"
     ]
    }
   ],
   "source": [
    "# A new braking system is being evaluated for a certain type of car. The braking system will be installed if it\n",
    "# can be conclusively demonstrated that the mean stopping distance under certain controlled conditions is less\n",
    "# than 90 ft. It is known that under these conditions that the standard deviation of stopping distance is\n",
    "# sig = 5 ft. A random sample of 150 stops was selected and the resulting mean stopping distance was 89.4 ft. Use\n",
    "# the significance of alpha = 0.01.\n",
    "sig = 5\n",
    "n = 150\n",
    "mu = 89.4\n",
    "alpha = 0.01\n",
    "\n",
    "# Test the hypotheses:\n",
    "# H_0: mu = 90\n",
    "# H_a: mu < 90\n",
    "mu_0 = 90\n",
    "\n",
    "# Test statistic\n",
    "z_0 = (mu-mu_0)/(sig/(n)**0.5)\n",
    "\n",
    "# Critical value approach\n",
    "z_alpha = round(stats.norm.ppf(alpha,0,1),2)\n",
    "if z_0 < z_alpha:\n",
    "    print(\"Null hypothesis rejected.\")\n",
    "else:\n",
    "    print(\"Failed to reject H0.\")\n",
    "    \n",
    "# p-Value approach\n",
    "p_value = stats.norm.cdf(z_0)\n",
    "if p_value < alpha:\n",
    "    print(\"Null hypothesis rejected.\")\n",
    "else:\n",
    "    print(\"Failed to reject H0.\")"
   ]
  },
  {
   "cell_type": "code",
   "execution_count": 12,
   "metadata": {},
   "outputs": [
    {
     "name": "stdout",
     "output_type": "stream",
     "text": [
      "Failed to reject H0.\n",
      "Failed to reject H0.\n"
     ]
    }
   ],
   "source": [
    "# Suppose the EPA is in the process of monitoring the water quality in a large estuary in the eastern United\n",
    "# States, in order to measure the polychlorinated biphenyl (PCB) concentration in parts per billion (ppb). Suppose\n",
    "# that the random sample of size 80 has a mean of 1.59 ppb and a standard deviation of 0.25 ppb. Is there evidence\n",
    "# that the mean PCB concentration in the estuary is higher than 1.50 ppb? Use the 5% significance level.\n",
    "n = 80\n",
    "x_bar = 1.59\n",
    "std = 0.25\n",
    "alpha = 0.05\n",
    "\n",
    "# Test hypotheses\n",
    "# H0: mu = mu_0\n",
    "# Ha: mu > mu_0\n",
    "mu_0 = 1.50\n",
    "\n",
    "# Test statistic\n",
    "t_0 = (x_bar-mu_0)/(std/(n)**0.5)\n",
    "\n",
    "# Critical value approach\n",
    "t_alphan = stats.t.ppf(1-alpha,n)\n",
    "if t_0 < t_alphan:\n",
    "    print(\"Null hypothesis rejected.\")\n",
    "else:\n",
    "    print(\"Failed to reject H0.\")\n",
    "    \n",
    "# p-Value approach\n",
    "p_value = stats.norm.cdf(z_0)\n",
    "if p_value < alpha:\n",
    "    print(\"Null hypothesis rejected.\")\n",
    "else:\n",
    "    print(\"Failed to reject H0.\")"
   ]
  },
  {
   "cell_type": "code",
   "execution_count": 20,
   "metadata": {},
   "outputs": [
    {
     "name": "stdout",
     "output_type": "stream",
     "text": [
      "0.05\n",
      "0.994935\n",
      "25.0\n"
     ]
    }
   ],
   "source": [
    "# Shipments of coffee beans are checked for moisture content. High moisture content indicates possible water\n",
    "# contamination, leading to refusal of the shipment. Let mu represent the true mean moisture content (in percent\n",
    "# by weight) in a shipment. Moisutre measurements will be made on n = 30 beans chosen at random from the shipment.\n",
    "# A test of the hypothesis H0: mu <= 10 versus Ha: mu > 10 will be made at the 5% significance level. Assume that\n",
    "# the population standard deviation for the moisture content is sigma = 3. If H0 is rejected at the 5% significance\n",
    "# level, the shipment will be refused.\n",
    "n = 30\n",
    "mu_0 = 10\n",
    "alpha = 0.05\n",
    "std = 3\n",
    "\n",
    "# a. If the true mean moisture is at most 10 (i.e. H0 is true), what is the probability that the shipment wil be\n",
    "#    refused? [Engineers call this the \"false discovery rate.\"]\n",
    "print(alpha)\n",
    "\n",
    "# b. If the true mean moisture content is 12, find the probability that the shipment will be refused? [This is the\n",
    "#    \"power\" of the test.] Draw the H0 and Ha curves and label the \"power\" in you illustration\n",
    "mu_true = 12\n",
    "\n",
    "z_alpha = round(abs(stats.norm.ppf(alpha,0,1)),3)\n",
    "delta = mu_true-mu_0\n",
    "test_val = z_alpha - ((delta)*(n)**0.5)/std\n",
    "beta = round(stats.norm.cdf(test_val),6)\n",
    "power = 1-beta\n",
    "\n",
    "print(round(power,6))\n",
    "\n",
    "# c. Suppose that you wanted to reject the null hypothesis with probability 0.95 if the true mean is 12. What\n",
    "#    sample size should be used?\n",
    "power = 0.95\n",
    "mu_true = 12\n",
    "\n",
    "z_alpha = round(abs(stats.norm.ppf(alpha,0,1)),3)\n",
    "beta = 1-power\n",
    "z_beta = round(abs(stats.norm.ppf(beta,0,1)),3)\n",
    "delta = mu_true - mu_0\n",
    "n = (z_alpha + z_beta)**2*(std)**2/(delta)**2\n",
    "\n",
    "print(np.ceil(n))"
   ]
  },
  {
   "cell_type": "code",
   "execution_count": 14,
   "metadata": {},
   "outputs": [
    {
     "data": {
      "text/plain": [
       "1.943"
      ]
     },
     "execution_count": 14,
     "metadata": {},
     "output_type": "execute_result"
    }
   ],
   "source": [
    "# z-value: stats.norm.ppf(z_score,0,1); round to 6 decimal places\n",
    "# z-score: stats.norm.cdf(z_value); round to 3 decimal places\n",
    "\n",
    "# t-score: stats.t.ppf(CL,df); round to 3 decimal places\n",
    "\n",
    "\n",
    "alpha = 0.05\n",
    "n = 7\n",
    "\n",
    "df = n-1\n",
    "round(stats.t.ppf(1-alpha,df),3)"
   ]
  },
  {
   "cell_type": "code",
   "execution_count": 15,
   "metadata": {},
   "outputs": [
    {
     "name": "stdout",
     "output_type": "stream",
     "text": [
      "H0: mu = 38\n",
      "H0: std = 0.5\n",
      "Ha:mean != mu (two tailed test)\n",
      "alpha = 0.04 ==> z = 2.0537489106318225\n",
      "test samplesize: 20\n",
      "test sampleMean: 38.4\n",
      "Effect size: 0.7999999999999972\n",
      "population accept region 37.77038389135556 38.22961610864444\n",
      "normalized accept region -2.0537489106318048 2.0537489106318048\n",
      "normalized sample mean (Z) 3.577708763999651\n",
      "beta: [0.06375937]\n",
      "Power: [0.93624063]\n"
     ]
    },
    {
     "data": {
      "image/png": "[encoded data removed]",
      "text/plain": [
       "<Figure size 432x288 with 1 Axes>"
      ]
     },
     "metadata": {
      "needs_background": "light"
     },
     "output_type": "display_data"
    },
    {
     "data": {
      "image/png": "[encoded data removed]",
      "text/plain": [
       "<Figure size 432x288 with 2 Axes>"
      ]
     },
     "metadata": {
      "needs_background": "light"
     },
     "output_type": "display_data"
    }
   ],
   "source": [
    "import numpy as np\n",
    "from math import erf\n",
    "import scipy.stats as sprand\n",
    "import matplotlib.pyplot as plt\n",
    "\n",
    "def normpdf(x, mu, sigma):    \n",
    "    factor = np.array(x-mu).astype(float)    \n",
    "    u = ((factor))/np.abs(sigma)    \n",
    "    y = (1/(np.sqrt(2*np.pi)*np.abs(sigma)))*np.exp(-u*u/2.)    \n",
    "    return y  \n",
    "  \n",
    "def normcdf(x,mu,sigma): \n",
    "    a = np.array(x-mu).astype(float) \n",
    "    b = a/(sigma*2**0.5) \n",
    "    elist = [] \n",
    "    for i in b: \n",
    "        elist.append((1. + erf(i))/2) \n",
    "    cdf = np.array(elist) \n",
    "    return cdf \n",
    "\n",
    "mu = 38\n",
    "std = .5\n",
    "n = 20\n",
    "alpha = 0.04\n",
    "a = alpha\n",
    "twoTail = True\n",
    "\n",
    "if twoTail:    \n",
    "    a = alpha / 2\n",
    "sampleMean = 38.4\n",
    "z = sprand.norm.ppf(1-a,0,1)\n",
    "\n",
    "print ('H0: mu =',mu)\n",
    "print ('H0: std =',std)\n",
    "print ('Ha:mean != mu (two tailed test)')\n",
    "print ('alpha =',alpha,'==> z =',z)\n",
    "print ('test samplesize:',n)\n",
    "print ('test sampleMean:',sampleMean)\n",
    "print ('Effect size:',(sampleMean-mu) / std)\n",
    "\n",
    "se = std/np.sqrt(n) #also std of sample!!!\n",
    "E = z * se\n",
    "accept_low = mu - E\n",
    "accept_high = mu + E\n",
    "\n",
    "print ('population accept region',accept_low,accept_high)\n",
    "\n",
    "accept_low = (accept_low-mu)/se\n",
    "accept_high =(accept_high-mu)/se\n",
    "\n",
    "print ('normalized accept region',accept_low,accept_high)\n",
    "\n",
    "Z = (sampleMean - mu) / se\n",
    "\n",
    "print ('normalized sample mean (Z)',Z)\n",
    "\n",
    "beta = normcdf(accept_high,np.array([Z]),1)\n",
    "\n",
    "print ('beta:',beta)\n",
    "print ('Power:',1.-beta)\n",
    "\n",
    "population = np.random.randn(10000)\n",
    "sample = np.random.normal(Z,1,10000)\n",
    "\n",
    "plt.title('Hypothesis testing, Alpha, Beta, Power')\n",
    "plt.plot(np.sort(population),normpdf(np.sort(population),0,1),color='b',label='Std Normal Dist')\n",
    "plt.axvline(accept_low,label='accept_region',c='g')\n",
    "plt.axvline(accept_high,label='accept_region',c='g')\n",
    "plt.plot(np.sort(sample),normpdf(np.sort(sample),Z,1),color='r',label='test outcome dist.')\n",
    "plt.plot(np.sort(population),normcdf(np.sort(population),0,1),color='b',ls='dashed')\n",
    "plt.plot(np.sort(sample),normcdf(np.sort(sample),Z,1),color='r',ls='dashed')\n",
    "plt.axvline(0,color='b',lw=3)\n",
    "plt.axvline(Z,color='r',lw=3)\n",
    "plt.legend(loc='upper left')\n",
    "\n",
    "bins = 25\n",
    "plt.figure()\n",
    "ax = plt.gca()\n",
    "ax2 = plt.twinx()\n",
    "hist = ax.hist(sample,color='r',bins=bins,rwidth=0.5,label='normalized sample dist.',alpha=0.8)\n",
    "ax2.plot(np.sort(sample),normpdf(np.sort(sample),Z,1),color='orange',ls='dashed',lw=3)\n",
    "ax.hist(population,color='b',bins=bins,rwidth=0.5,label='normalized pop. dist',alpha=0.7)\n",
    "plt.title('normalized sample frequency')\n",
    "plt.axvline(Z,label='normalized sample mean: '+ str(Z),color='k',lw=3,ls='dashed')\n",
    "ax2.plot(np.sort(population),normpdf(np.sort(population),0,1),color='c',ls='dashed',lw=3)\n",
    "plt.axvline(accept_low,label='accept_region',c='g')\n",
    "plt.axvline(accept_high,label='accept_region',c='g')\n",
    "ax2.plot(np.sort(sample),normcdf(np.sort(sample),Z,1),label='cdf',color='orange',ls='dashed')\n",
    "ax2.legend(loc='upper left',frameon=False)\n",
    "plt.show()"
   ]
  },
  {
   "cell_type": "code",
   "execution_count": null,
   "metadata": {},
   "outputs": [],
   "source": []
  }
 ],
 "metadata": {
  "kernelspec": {
   "display_name": "Python 3",
   "language": "python",
   "name": "python3"
  },
  "language_info": {
   "codemirror_mode": {
    "name": "ipython",
    "version": 3
   },
   "file_extension": ".py",
   "mimetype": "text/x-python",
   "name": "python",
   "nbconvert_exporter": "python",
   "pygments_lexer": "ipython3",
   "version": "3.7.6"
  }
 },
 "nbformat": 4,
 "nbformat_minor": 4
}
