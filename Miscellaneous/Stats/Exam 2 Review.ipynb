{
 "cells": [
  {
   "cell_type": "markdown",
   "metadata": {},
   "source": [
    "<h3>More Sample and Population (Chp 7)</h3>\n",
    "\n",
    "<h6>Definitions</h6>\n",
    "$$\\begin{array}{cc}\n",
    "\\mu_\\bar{X} = \\mu_X & \\text{Mean of all possible sample means of samples of size n from population} \\\\\n",
    "\\end{array}$$\n",
    "\n",
    "<h6>Equations</h6>\n",
    "$$\\begin{array}{cc}\n",
    "\\sigma_\\bar{X}^2 = \\dfrac{\\sigma_X^2}{\\sqrt{n}} & \\text{Variance of all possible means of samples of size n from population} \\\\ % Is this actually correct?\n",
    "\\sigma_\\bar{X} = \\dfrac{\\sigma_X}{\\sqrt{n}} & \\text{Standard deviation of all possible means  of samples of size n from population} \\\\\n",
    "SE(\\bar{X}) = \\dfrac{S}{\\sqrt{n}}  & \\text{Standard error of all possible sample means of samples of size n from population} \\\\\n",
    "Z = \\dfrac{\\bar{X}-\\mu}{\\sigma/\\sqrt{n}} & \\text{Standardize Formula when calculating probabilities about $\\bar{X}$} \\\\\n",
    "\\end{array}$$"
   ]
  },
  {
   "cell_type": "markdown",
   "metadata": {},
   "source": [
    "<h3>Confidence Level (Chp 8))</h3>\n",
    "\n",
    "<h6>Definitions</h6>\n",
    "$$\\begin{array}{cc}\n",
    "\\bar{X} \\pm Z_{\\alpha/2} \\dfrac{\\sigma}{\\sqrt{n}} & \\text{Two-sided CI for the population mean, when $\\sigma$ is known} \\\\\n",
    "\\bar{X} + Z_\\alpha \\dfrac{\\sigma}{\\sqrt{n}} & \\text{Upper bound for the population mean, when $\\sigma$ is known} \\\\\n",
    "\\bar{X} - Z_\\alpha \\dfrac{\\sigma}{\\sqrt{n}} & \\text{Lower bound for the population mean, when $\\sigma$ is known} \\\\\n",
    "\\bar{X} \\pm T_{\\alpha/2} \\dfrac{S}{\\sqrt{n}} & \\text{Two-sided CI for the population mean, when $\\sigma$ is NOT known} \\\\\n",
    "\\bar{X} + T_{\\alpha/2} \\dfrac{S}{\\sqrt{n}} & \\text{Upper bound for the population mean, when $\\sigma$ is NOT known} \\\\\n",
    "\\bar{X} - T_{\\alpha/2} \\dfrac{S}{\\sqrt{n}} & \\text{Lower bound CI for the population mean, when $\\sigma$ is NOT known} \\\\\n",
    "\\end{array}$$\n",
    "\n",
    "<h6>Equations</h6>\n",
    "$$\\begin{array}{cc}\n",
    "C = 1 - \\alpha & \\text{Confidence level} \\\\\n",
    "E = Z_{\\alpha/2} \\dfrac{\\sigma}{\\sqrt{n}} & \\text{Margin of error for a two-sided CI} \\\\\n",
    "E = Z_{\\alpha} \\dfrac{\\sigma}{\\sqrt{n}} & \\text{Margin of error for a one-sided CI} \\\\\n",
    "n = \\left( \\dfrac{Z_{\\alpha/2}\\cdot\\sigma}{E} \\right)^2 & \\text{Sample size for two-sided hypothesis test, given C and E} \\\\\n",
    "n = \\left( \\dfrac{Z_\\alpha\\cdot\\sigma}{E} \\right)^2 & \\text{Sample size for one-sided hypothesis test, given C and E}\n",
    "\\end{array}$$"
   ]
  },
  {
   "cell_type": "markdown",
   "metadata": {},
   "source": [
    "<h3>Hypothesis Testing (Chp 9)</h3>\n",
    "\n",
    "<h6>Definitions</h6>\n",
    "$$\\begin{array}{cc}\n",
    "\\alpha & \\begin{array}{c}\\text{Significance level, and} \\\\ \\text{Probability of Type I error (False positive)}\\end{array} \\\\\n",
    "\\beta & \\text{Probability of Type II error (False negative)} \\\\\n",
    "Z_\\alpha & \\text{$Z$ value with $\\alpha$ greater-than probability} \\\\\n",
    "Z_\\beta & \\text{$Z$ value with $\\beta$ greater-than probability} \\\\\n",
    "Z_{\\alpha/2} & \\text{$Z$ value with $\\alpha/2$ greater-than probability} \\\\\n",
    "\\end{array}$$\n",
    "\n",
    "<h6>Equations</h6>\n",
    "$$\\begin{array}{cc}\n",
    "Z_0 = \\dfrac{\\bar{X}-\\mu_0}{\\sigma/\\sqrt{n}} & \\text{Test statistic for a One-sample Z test, where $Z_0 \\sim N(0,1)$}\\\\\n",
    "T_0 = \\dfrac{\\bar{X}-\\mu_0}{S/\\sqrt{n}} & \\text{Test statistic for a One-sample T test, where $T_0 \\sim t(n-1)$} \\\\\n",
    "\\delta = \\mu_a - \\mu_0 & \\text{Difference between centers of $\\bar{X}$ under $H_0$ and $H_a$} \\\\\n",
    "\\beta = 1 -P\\left( Z \\le -Z_\\alpha - \\dfrac{\\delta\\sqrt{n}}{\\sigma} \\right) & H_0: \\mu = \\mu_0 \\text{ vs. } H_a: \\mu < \\mu_0 \\\\\n",
    "\\beta = P\\left( Z \\le Z_\n",
    "\\alpha - \\dfrac{\\delta\\sqrt{n}}{\\sigma} \\right) & H_0: \\mu = \\mu_0 \\text{ vs. } H_a: \\mu > \\mu_0 \\\\\n",
    "\\beta = P\\left( Z \\le Z_{\\alpha/2} - \\dfrac{\\delta\\sqrt{n}}{\\sigma} \\right) - P\\left( Z \\le -Z_{\\alpha/2} - \\dfrac{\\delta\\sqrt{n}}{\\sigma} \\right) & H_0: \\mu = \\mu_0 \\text{ vs. } H_a: \\mu \\ne \\mu_0 \\\\\n",
    "\\text{Power} = 1-\\beta & \\text{Power it the probability of rejecting $H_0$ when $H_a$ is true} \\\\\n",
    "n = \\left(\\dfrac{(Z_\\alpha+Z_\\beta)\\sigma}{\\delta}\\right)^2 & \\text{Sample size calculation for a one-sided hypothesis test} \\\\\n",
    "n = \\left(\\dfrac{(Z_{\\alpha/2}+Z_\\beta)\\sigma}{\\delta}\\right)^2 & \\text{Sample size calculation for a two-sided hypothesis test} \\\\\n",
    "\\end{array}$$"
   ]
  },
  {
   "cell_type": "code",
   "execution_count": 1,
   "metadata": {},
   "outputs": [],
   "source": [
    "import scipy.stats as stats\n",
    "import numpy as np\n",
    "import matplotlib.pyplot as plt"
   ]
  },
  {
   "cell_type": "code",
   "execution_count": 2,
   "metadata": {},
   "outputs": [],
   "source": [
    "def P(eq,**kwargs):\n",
    "    relational_operators = [' U ',' | ',' I ',' < ',' > ',' == ',' <= ',' >= ']\n",
    "    rel_op = \"You can't fucking spell\";\n",
    "    for operator in relational_operators:\n",
    "        if operator in eq:\n",
    "            rel_op = operator\n",
    "    \n",
    "    if rel_op == \"You can't fucking spell\":\n",
    "        raise ValueError(\"No recognized relational operator in equation: '{}'\".format(eq))\n",
    "    \n",
    "    LHS,RHS = eq.split(rel_op)\n",
    "    LHS = LHS.strip()\n",
    "    RHS = RHS.strip()\n",
    "    #print(\"LHS: '{}'\".format(LHS))\n",
    "    #print(\"RHS: '{}'\".format(RHS))\n",
    "    #print(\"RelOp: '{}'\".format(rel_op.strip()))\n",
    "    \n",
    "    if (LHS == 'Z' or LHS == 'T' or LHS == 'T0' or LHS == 'Z0' or LHS == 'T_0' or LHS == 'Z_0') and rel_op.strip() not in ['U','I','|']:\n",
    "        if RHS not in kwargs:\n",
    "            raise ValueError(\"Variable '{}' not provided. Symbolism don't mean shit here.\".format(RHS))\n",
    "        #print(\"This is a table problem, with {}: {}\".format(RHS,kwargs[RHS]))\n",
    "        if LHS == 'Z':\n",
    "            # returns z-score\n",
    "            if '<' in rel_op.strip():\n",
    "                return round(stats.norm.ppf(kwargs[RHS]),3)\n",
    "            elif '>' in rel_op.strip():\n",
    "                return round(stats.norm.ppf(1-kwargs[RHS]),3)\n",
    "        elif LHS == 'T':\n",
    "            # returns t-score\n",
    "            if 'n' not in kwargs:\n",
    "                raise ValueError(\"Sample size 'n' not provided.\")\n",
    "            df = kwargs['n']-1\n",
    "            if '<' in rel_op.strip():\n",
    "                return round(stats.t.ppf(kwargs[RHS],df),3)\n",
    "            elif '>' in rel_op.strip():\n",
    "                return round(stats.t.ppf(1-kwargs[RHS],df),3)\n",
    "        elif LHS == 'T_0' or LHS == 'T0':\n",
    "            # returns t-value\n",
    "            if 'n' not in kwargs:\n",
    "                raise ValueError(\"Sample size 'n' not provided.\")\n",
    "            df = kwargs['n']-1\n",
    "            return round(stats.t.cdf(kwargs[RHS],df),6)\n",
    "        elif LHS == 'Z_0' or LHS == 'Z0':\n",
    "            # returns z-value\n",
    "            return round(stats.norm.cdf(kwargs[RHS]),6)\n",
    "    else:\n",
    "        #print(\"You're gonna need some equations here.\")\n",
    "        if 'S' not in kwargs:\n",
    "            raise ValueError(\"Sample space 'S' not provided.\")\n",
    "        S = kwargs['S']\n",
    "            \n",
    "        print(\"Only Z- and T-table lookups are available at this time. Apologies for the inconvenience.\")\n",
    "        \n",
    "        if LHS not in S.keys():\n",
    "            raise KeyError(\"Sample Space setup up improperly. No key '{}' in keys '{}'\".format(LHS,S.keys()))\n",
    "        if RHS not in S[list(S.keys())[0]].keys():\n",
    "            raise KeyError(\"Sample Space setup up improperly. No key '{}' in keys '{}'\".format(RHS,S[list(S.keys())[0]].keys()))\n",
    "        if rel_op.strip() == 'U' and 'disjoint' not in kwargs:\n",
    "            raise ValueError(\"Disjointedness ('disjoint=') not defined.\")\n",
    "        if rel_op.strip() == 'I' and 'independent' not in kwargs:\n",
    "            raise ValueError(\"Independence ('independent=') not defined.\")\n",
    "    \n",
    "    print(\"It appears. There's an error. My apologies.\")"
   ]
  },
  {
   "cell_type": "code",
   "execution_count": 8,
   "metadata": {},
   "outputs": [
    {
     "name": "stdout",
     "output_type": "stream",
     "text": [
      "z_value: 1.645\n",
      "t-value: 1.711\n",
      "p-value: 0.001863\n"
     ]
    }
   ],
   "source": [
    "# Get z_alpha\n",
    "C = 0.95 # 95% confident (confidence level)\n",
    "alpha = 1-C\n",
    "z_alpha = P(\"Z <= z\",z=C)\n",
    "print(\"z_value: {}\".format(z_alpha));\n",
    "\n",
    "# Get t-value\n",
    "n = 25\n",
    "df = n-1\n",
    "t_value = P(\"T <= t\",t=C,n=n)\n",
    "print(\"t-value: {}\".format(t_value))\n",
    "\n",
    "# Get p-value\n",
    "# From emissions example:\n",
    "x_bar = 1.21\n",
    "mu_0 = 1.45\n",
    "s = 0.4\n",
    "n = 28\n",
    "t_0 = (x_bar-mu_0)/(s/(n)**0.5)\n",
    "p_value = P(\"T_0 <= t_0\",t_0=t_0,n=n)\n",
    "print(\"p-value: {}\".format(p_value))"
   ]
  },
  {
   "cell_type": "code",
   "execution_count": 6,
   "metadata": {},
   "outputs": [
    {
     "name": "stdout",
     "output_type": "stream",
     "text": [
      "1.645\n",
      "1.96\n"
     ]
    }
   ],
   "source": [
    "alpha = 0.05\n",
    "print(P(\"Z <= z\",z=1-alpha))\n",
    "print(P(\"Z <= z\",z=1-alpha/2))"
   ]
  },
  {
   "cell_type": "code",
   "execution_count": null,
   "metadata": {},
   "outputs": [],
   "source": []
  },
  {
   "cell_type": "code",
   "execution_count": 9,
   "metadata": {},
   "outputs": [
    {
     "name": "stdout",
     "output_type": "stream",
     "text": [
      "(13.6312, 16.3688)\n"
     ]
    }
   ],
   "source": [
    "n = 25\n",
    "x_bar = 15\n",
    "s = 4\n",
    "\n",
    "C = 0.90\n",
    "alpha = 1-C\n",
    "t_alphaOn2 = P(\"T <= z\",z=1-alpha/2,n=n)\n",
    "spread = (x_bar - t_alphaOn2*s/(n)**0.5,x_bar + t_alphaOn2*s/(n)**0.5)\n",
    "print(spread)"
   ]
  },
  {
   "cell_type": "code",
   "execution_count": 13,
   "metadata": {},
   "outputs": [
    {
     "data": {
      "text/plain": [
       "1.725"
      ]
     },
     "execution_count": 13,
     "metadata": {},
     "output_type": "execute_result"
    }
   ],
   "source": [
    "P(\"T <= t\",t=1-0.10/2,n=21)"
   ]
  },
  {
   "cell_type": "code",
   "execution_count": 19,
   "metadata": {},
   "outputs": [
    {
     "name": "stdout",
     "output_type": "stream",
     "text": [
      "delta = 12\n",
      "z_alpha = 1.645\n",
      "beta = 0.116099\n",
      "power = 0.883901\n"
     ]
    }
   ],
   "source": [
    "n = 35\n",
    "mu_0 = 350\n",
    "alpha = 0.05\n",
    "std = 25\n",
    "\n",
    "mu_true = 362\n",
    "delta = mu_true-mu_0\n",
    "print(\"delta = {}\".format(delta))\n",
    "z_alpha = P(\"Z <= z\",z=1-alpha)\n",
    "print(\"z_alpha = {}\".format(z_alpha))\n",
    "beta = P(\"Z0 <= Z_0\",Z_0=z_alpha-delta*(n)**0.5/std)\n",
    "print(\"beta = {}\".format(beta))\n",
    "power = 1-beta\n",
    "print(\"power = {}\".format(power))"
   ]
  },
  {
   "cell_type": "code",
   "execution_count": 21,
   "metadata": {},
   "outputs": [
    {
     "data": {
      "text/plain": [
       "-1.282"
      ]
     },
     "execution_count": 21,
     "metadata": {},
     "output_type": "execute_result"
    }
   ],
   "source": [
    "P(\"Z <= z\",z=0.10)"
   ]
  },
  {
   "cell_type": "code",
   "execution_count": 23,
   "metadata": {},
   "outputs": [
    {
     "data": {
      "text/plain": [
       "38.0"
      ]
     },
     "execution_count": 23,
     "metadata": {},
     "output_type": "execute_result"
    }
   ],
   "source": [
    "beta = 0.10\n",
    "z_beta = P(\"Z <= z\",z=1-beta)\n",
    "np.ceil((z_alpha+z_beta)**2*(std)**2/(delta)**2)"
   ]
  },
  {
   "cell_type": "code",
   "execution_count": 26,
   "metadata": {},
   "outputs": [
    {
     "name": "stdout",
     "output_type": "stream",
     "text": [
      "Test statistic: -2.5819888974716116\n",
      "0.021726\n"
     ]
    }
   ],
   "source": [
    "mu_0 = 400000\n",
    "n = 15\n",
    "x_bar = 380000\n",
    "s = 30000\n",
    "alpha = 0.05\n",
    "\n",
    "t_0 = (x_bar-mu_0)/(s/(n)**0.5)\n",
    "print(\"Test statistic: {}\".format(t_0))\n",
    "p_value = P(\"T_0 <= t_0\",t_0=t_0,n=n)\n",
    "print(2*p_value)"
   ]
  },
  {
   "cell_type": "code",
   "execution_count": null,
   "metadata": {},
   "outputs": [],
   "source": []
  }
 ],
 "metadata": {
  "kernelspec": {
   "display_name": "Python 3",
   "language": "python",
   "name": "python3"
  },
  "language_info": {
   "codemirror_mode": {
    "name": "ipython",
    "version": 3
   },
   "file_extension": ".py",
   "mimetype": "text/x-python",
   "name": "python",
   "nbconvert_exporter": "python",
   "pygments_lexer": "ipython3",
   "version": "3.7.6"
  }
 },
 "nbformat": 4,
 "nbformat_minor": 4
}
